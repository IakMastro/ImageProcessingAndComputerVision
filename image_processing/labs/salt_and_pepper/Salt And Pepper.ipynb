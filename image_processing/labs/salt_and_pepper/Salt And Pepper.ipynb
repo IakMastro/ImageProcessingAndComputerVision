{
 "cells": [
  {
   "cell_type": "markdown",
   "metadata": {},
   "source": [
    "# Salt And Paper\n",
    "\n",
    "Salt and paper is a form of noise sometimes seen on images that have sudden disturbances in the image signal. It is very common on black and white pictures."
   ]
  },
  {
   "cell_type": "markdown",
   "metadata": {},
   "source": [
    "## Libraries\n",
    "\n",
    "For this exercie, the libraries needed are ``cv2``, ``numpy``, ``skimage.metrics`` and ``random``. ``Random`` is installed with Python, while the other three need to be installed from ``pip``.\n",
    "\n",
    "On the root of the project, run this command:\n",
    "```sh\n",
    "pip install -r requirements.txt\n",
    "```"
   ]
  },
  {
   "cell_type": "code",
   "execution_count": 1,
   "metadata": {},
   "outputs": [],
   "source": [
    "import cv2\n",
    "import numpy as np\n",
    "\n",
    "from skimage.metrics import structural_similarity as ssim\n",
    "from random import random"
   ]
  },
  {
   "cell_type": "markdown",
   "metadata": {},
   "source": [
    "## Image\n",
    "\n",
    "The image gonna be used for this example is the cover art for Phil Collins' first album called Face Value. The image is taken twice, once when the album came out in early 1981 and when the album was reissued in 2015. That means that there will be a difference in image fidelity in both pictures.\n",
    "\n",
    "![Face Values artwork](./img/face_value.jpg)"
   ]
  },
  {
   "cell_type": "code",
   "execution_count": 2,
   "metadata": {},
   "outputs": [],
   "source": [
    "image = cv2.imread('img/face_value.jpg', 0)"
   ]
  },
  {
   "cell_type": "markdown",
   "metadata": {},
   "source": [
    "## Gaussian Blur\n",
    "\n",
    "It's time to add some blur into the picture!\n",
    "\n",
    "First, it's needed to apply some filters to the kernel of the image."
   ]
  },
  {
   "cell_type": "code",
   "execution_count": 3,
   "metadata": {},
   "outputs": [],
   "source": [
    "# Applying the blur into the picture\n",
    "kernel = np.ones((5, 5), np.float32) / 25\n",
    "\n",
    "average_image = cv2.filter2D(image, -1, kernel)\n",
    "gauss_image = cv2.GaussianBlur(image, (5, 5), 0)"
   ]
  },
  {
   "cell_type": "markdown",
   "metadata": {},
   "source": [
    "### Displaying the average blurred image "
   ]
  },
  {
   "cell_type": "markdown",
   "metadata": {},
   "source": [
    "![Average Blurred image](./img/average.png)\n",
    "\n",
    "It can be noticed that the picture is more blurred than before. Especially in the left picture that it's newer."
   ]
  },
  {
   "cell_type": "markdown",
   "metadata": {},
   "source": [
    "### Displaying the Structural Similarity Index (SSIM) of the blurred picture\n",
    "\n",
    "**Structural Similarity Index (SSIM)** is the loss of fidelity between the original picture to the compressed copy that's made."
   ]
  },
  {
   "cell_type": "code",
   "execution_count": 4,
   "metadata": {},
   "outputs": [
    {
     "name": "stdout",
     "output_type": "stream",
     "text": [
      "SSIM score is: 0.7470682588545584\n"
     ]
    }
   ],
   "source": [
    "def calc_simil(og_image, image):\n",
    "    simil_score, _ = ssim(og_image, image, full=True)\n",
    "    print(f\"SSIM score is: {simil_score}\")\n",
    "\n",
    "calc_simil(image, average_image)"
   ]
  },
  {
   "cell_type": "markdown",
   "metadata": {},
   "source": [
    "### Displaying the Guassian picture"
   ]
  },
  {
   "cell_type": "code",
   "execution_count": 5,
   "metadata": {},
   "outputs": [
    {
     "name": "stdout",
     "output_type": "stream",
     "text": [
      "SSIM score is: 0.8310405477664277\n"
     ]
    }
   ],
   "source": [
    "calc_simil(image, gauss_image)"
   ]
  },
  {
   "cell_type": "markdown",
   "metadata": {},
   "source": [
    "![Guassian blur](./img/gaus.png)\n",
    "\n",
    "With this method, there is less blur and the features in Phil Collins' face is more clear."
   ]
  },
  {
   "cell_type": "markdown",
   "metadata": {},
   "source": [
    "## Image sharpening\n",
    "\n",
    "It's time to sharpen the image."
   ]
  },
  {
   "cell_type": "code",
   "execution_count": 6,
   "metadata": {},
   "outputs": [],
   "source": [
    "kernel = np.array(\n",
    "    [\n",
    "        [0, -1 , 0],\n",
    "        [-1, 5, -1],\n",
    "        [0, -1, 0]\n",
    "    ]\n",
    ")\n",
    "\n",
    "sharp_image = cv2.filter2D(image, -1, kernel)\n",
    "sharp_gauss_image = cv2.filter2D(gauss_image, -1, kernel)"
   ]
  },
  {
   "cell_type": "markdown",
   "metadata": {},
   "source": [
    "### Average sharp"
   ]
  },
  {
   "cell_type": "code",
   "execution_count": 7,
   "metadata": {},
   "outputs": [
    {
     "name": "stdout",
     "output_type": "stream",
     "text": [
      "SSIM score is: 0.5990018162347946\n"
     ]
    }
   ],
   "source": [
    "calc_simil(image, sharp_image)"
   ]
  },
  {
   "cell_type": "markdown",
   "metadata": {},
   "source": [
    "![Average](./img/sharp.png)\n",
    "\n",
    "The image looks too wrong. It's like Phil Collins has snow on his face.\n",
    "\n",
    "### Guassian sharp"
   ]
  },
  {
   "cell_type": "code",
   "execution_count": 8,
   "metadata": {},
   "outputs": [
    {
     "name": "stdout",
     "output_type": "stream",
     "text": [
      "SSIM score is: 0.8906897600245756\n"
     ]
    }
   ],
   "source": [
    "calc_simil(image, sharp_gauss_image)"
   ]
  },
  {
   "cell_type": "markdown",
   "metadata": {},
   "source": [
    "![Guassian Sharp](./img/sharp_gaus.png)\n",
    "\n",
    "The image looks sharper but far more natural than it was before.\n",
    "\n",
    "## Salt and Sault Noise\n",
    "\n",
    "Now it's time to add some noise to the picture\n",
    "\n",
    "### Algorithm\n",
    "\n",
    "This is the algorithm implemented in Python."
   ]
  },
  {
   "cell_type": "code",
   "execution_count": 9,
   "metadata": {},
   "outputs": [],
   "source": [
    "def salt_and_paper(image, probability):\n",
    "    noise_image = np.zeros(image.shape, np.uint8)\n",
    "\n",
    "    for row in range(image.shape[0]):\n",
    "        for col in range(image.shape[1]):\n",
    "            rand = random()\n",
    "            if rand < probability:\n",
    "                noise_image[row][col] = 0\n",
    "            elif rand > (1 - probability):\n",
    "                noise_image[row][col] = 255\n",
    "            else:\n",
    "                noise_image[row][col] = image[row][col]\n",
    "    \n",
    "    return noise_image"
   ]
  },
  {
   "cell_type": "markdown",
   "metadata": {},
   "source": [
    "### Adding the noise"
   ]
  },
  {
   "cell_type": "code",
   "execution_count": 10,
   "metadata": {},
   "outputs": [
    {
     "name": "stdout",
     "output_type": "stream",
     "text": [
      "SSIM score is: 0.09915893011117755\n"
     ]
    }
   ],
   "source": [
    "noise_image = salt_and_paper(image, 0.12)\n",
    "\n",
    "calc_simil(image, noise_image)"
   ]
  },
  {
   "cell_type": "markdown",
   "metadata": {},
   "source": [
    "![Adding noise](./img/noise.png)\n",
    "\n",
    "The picture is not as clear as it once was.\n",
    "\n",
    "### Trying to remove the noise\n",
    "\n",
    "To remove the noise, median blur is gonna be used."
   ]
  },
  {
   "cell_type": "code",
   "execution_count": 11,
   "metadata": {},
   "outputs": [
    {
     "name": "stdout",
     "output_type": "stream",
     "text": [
      "SSIM score is: 0.7420197044256345\n"
     ]
    }
   ],
   "source": [
    "median = cv2.medianBlur(noise_image, 5)\n",
    "\n",
    "calc_simil(image, median)"
   ]
  },
  {
   "cell_type": "markdown",
   "metadata": {},
   "source": [
    "![Median](./img/median.png)\n",
    "\n",
    "### Comparison with the original\n",
    "\n",
    "![Median](./img/median.png)\n",
    "\n",
    "![Original](./img/face_value.jpg)"
   ]
  },
  {
   "cell_type": "markdown",
   "metadata": {},
   "source": [
    "All the details are lost from the original. The album title cannot be read and it's very difficult to see some of the details in Phil Collins' face."
   ]
  },
  {
   "cell_type": "markdown",
   "metadata": {},
   "source": [
    "## Source code\n",
    "\n",
    "```py\n",
    "import cv2\n",
    "import numpy as np\n",
    "\n",
    "from skimage.metrics import structural_similarity as ssim\n",
    "from random import random\n",
    "\n",
    "def show_image(og_image, image, name):\n",
    "    cv2.namedWindow(name, cv2.WINDOW_NORMAL)\n",
    "    cv2.imshow(name, image)\n",
    "\n",
    "    simil_score, _ = ssim(og_image, image, full=True)\n",
    "    print(f\"{name} SSIM score is: {simil_score}\")\n",
    "\n",
    "\n",
    "def salt_and_paper(image, probability):\n",
    "    noise_image = np.zeros(image.shape, np.uint8)\n",
    "\n",
    "    for row in range(image.shape[0]):\n",
    "        for col in range(image.shape[1]):\n",
    "            rand = random()\n",
    "            if rand < probability:\n",
    "                noise_image[row][col] = 0\n",
    "            elif rand > (1 - probability):\n",
    "                noise_image[row][col] = 255\n",
    "            else:\n",
    "                noise_image[row][col] = image[row][col]\n",
    "    \n",
    "    return noise_image\n",
    "\n",
    "\n",
    "if __name__ == '__main__':\n",
    "    image = cv2.imread('img/face_value.jpg', 0)\n",
    "\n",
    "    cv2.namedWindow('Original Image', cv2.WINDOW_NORMAL)\n",
    "    cv2.imshow('Original Image', image)\n",
    "\n",
    "    kernel = np.ones((5, 5), np.float32) / 25\n",
    "\n",
    "    average_image = cv2.filter2D(image, -1, kernel)\n",
    "    gauss_image = cv2.GaussianBlur(image, (5, 5), 0)\n",
    "\n",
    "    show_image(image, average_image, 'Average Image')\n",
    "    show_image(image, gauss_image, 'Gaus Image')\n",
    "\n",
    "    kernel = np.array(\n",
    "        [\n",
    "            [0, -1 , 0],\n",
    "            [-1, 5, -1],\n",
    "            [0, -1, 0]\n",
    "        ]\n",
    "    )\n",
    "\n",
    "    sharp_image = cv2.filter2D(image, -1, kernel)\n",
    "    sharp_gauss_image = cv2.filter2D(gauss_image, -1, kernel)\n",
    "\n",
    "    show_image(image, sharp_image, 'Sharp Image')\n",
    "    show_image(image, sharp_gauss_image, 'Sharp Gaus Image')\n",
    "\n",
    "    noise_image = salt_and_paper(image, 0.12)\n",
    "    show_image(image, noise_image, 'Noise Image')\n",
    "\n",
    "    median = cv2.medianBlur(noise_image, 5)\n",
    "    show_image(image, median, 'Median')\n",
    "\n",
    "    cv2.waitKey(0)\n",
    "    cv2.destroyAllWindows()\n",
    "```"
   ]
  }
 ],
 "metadata": {
  "interpreter": {
   "hash": "e7370f93d1d0cde622a1f8e1c04877d8463912d04d973331ad4851f04de6915a"
  },
  "kernelspec": {
   "display_name": "Python 3.9.9 64-bit",
   "language": "python",
   "name": "python3"
  },
  "language_info": {
   "codemirror_mode": {
    "name": "ipython",
    "version": 3
   },
   "file_extension": ".py",
   "mimetype": "text/x-python",
   "name": "python",
   "nbconvert_exporter": "python",
   "pygments_lexer": "ipython3",
   "version": "3.9.9"
  },
  "orig_nbformat": 4
 },
 "nbformat": 4,
 "nbformat_minor": 2
}
