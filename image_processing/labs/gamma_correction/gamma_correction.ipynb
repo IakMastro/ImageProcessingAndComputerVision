{
 "cells": [
  {
   "cell_type": "markdown",
   "metadata": {},
   "source": [
    "# Gamma Correction\n",
    "\n",
    "Gamma correction is a non-linear operation used to code and decode luminance or tristimulus values in video or image systems.\n",
    "\n",
    "## Libraries\n",
    "\n",
    "The libraries used for this exercise are ``numpy`` and ``cv2``."
   ]
  },
  {
   "cell_type": "code",
   "execution_count": null,
   "metadata": {},
   "outputs": [],
   "source": [
    "import numpy as np\n",
    "import cv2"
   ]
  },
  {
   "cell_type": "markdown",
   "metadata": {},
   "source": [
    "## Image\n",
    "\n",
    "The image is depicts a group of three daleks from the BBC show, Doctor Who.\n",
    "\n",
    "![Daleks from Doctor Who](daleks.webp)\n",
    "\n",
    "## Algorithm"
   ]
  },
  {
   "cell_type": "code",
   "execution_count": null,
   "metadata": {},
   "outputs": [],
   "source": [
    "def gamma_correction(image, gamma):\n",
    "    inverted_gamma = 1 / gamma\n",
    "    \n",
    "    table = [((i / 255) ** inverted_gamma) * 255 for i in range(256)]\n",
    "    table = np.array(table, np.uint8)\n",
    "\n",
    "    return cv2.LUT(image, table)"
   ]
  },
  {
   "cell_type": "markdown",
   "metadata": {},
   "source": [
    "## Results\n",
    "\n",
    "![Gamma corrected](gamma_corrected.png)"
   ]
  }
 ],
 "metadata": {
  "language_info": {
   "name": "python"
  },
  "orig_nbformat": 4
 },
 "nbformat": 4,
 "nbformat_minor": 2
}
